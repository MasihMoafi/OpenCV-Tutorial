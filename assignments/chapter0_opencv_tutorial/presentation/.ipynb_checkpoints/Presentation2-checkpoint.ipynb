{
 "cells": [
  {
   "cell_type": "code",
   "execution_count": null,
   "id": "b26962b6-cdbd-416c-924d-a3dd64317618",
   "metadata": {},
   "outputs": [],
   "source": [
    "# Filters"
   ]
  }
 ],
 "metadata": {
  "kernelspec": {
   "display_name": "Python (OpenCV)",
   "language": "python",
   "name": "opencv_env"
  },
  "language_info": {
   "codemirror_mode": {
    "name": "ipython",
    "version": 3
   },
   "file_extension": ".py",
   "mimetype": "text/x-python",
   "name": "python",
   "nbconvert_exporter": "python",
   "pygments_lexer": "ipython3",
   "version": "3.12.3"
  }
 },
 "nbformat": 4,
 "nbformat_minor": 5
}
