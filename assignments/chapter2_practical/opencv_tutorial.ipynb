{
 "cells": [
  {
   "cell_type": "code",
   "execution_count": null,
   "metadata": {},
   "outputs": [],
   "source": [
    "import cv2\n",
    "import numpy as np\n",
    "import matplotlib.pyplot as plt\n",
    "%matplotlib inline\n",
    "print(f\"OpenCV: {cv2.__version__}\")"
   ]
  },
  {
   "cell_type": "code",
   "execution_count": null,
   "metadata": {},
   "outputs": [],
   "source": [
    "# Load images\n",
    "img_gray = cv2.imread('how-many-horses.webp', cv2.IMREAD_GRAYSCALE)\n",
    "img_color = cv2.imread('how-many-horses.webp', cv2.IMREAD_COLOR)\n",
    "\n",
    "if img_gray is None:\n",
    "    print(\"ERROR: Image not found!\")\n",
    "else:\n",
    "    print(f\"Grayscale: {img_gray.shape}, {img_gray.dtype}\")\n",
    "    print(f\"Color: {img_color.shape}, {img_color.dtype}\")\n",
    "    \n",
    "    fig, axes = plt.subplots(1, 2, figsize=(10, 4))\n",
    "    axes[0].imshow(img_gray, cmap='gray')\n",
    "    axes[0].set_title('Grayscale')\n",
    "    axes[0].axis('off')\n",
    "    \n",
    "    # Fix BGR→RGB for matplotlib\n",
    "    axes[1].imshow(cv2.cvtColor(img_color, cv2.COLOR_BGR2RGB))\n",
    "    axes[1].set_title('Color (Fixed)')\n",
    "    axes[1].axis('off')\n",
    "    plt.show()"
   ]
  },
  {
   "cell_type": "code",
   "execution_count": null,
   "metadata": {},
   "outputs": [],
   "source": [
    "# Split color channels (اسلاید 19-22)\n",
    "b, g, r = cv2.split(img_color)\n",
    "\n",
    "plt.figure(figsize=(12, 3))\n",
    "plt.subplot(141); plt.imshow(cv2.cvtColor(img_color, cv2.COLOR_BGR2RGB)); plt.title('Original'); plt.axis('off')\n",
    "plt.subplot(142); plt.imshow(r, cmap='Reds'); plt.title('Red'); plt.axis('off')\n",
    "plt.subplot(143); plt.imshow(g, cmap='Greens'); plt.title('Green'); plt.axis('off')\n",
    "plt.subplot(144); plt.imshow(b, cmap='Blues'); plt.title('Blue'); plt.axis('off')\n",
    "plt.show()"
   ]
  },
  {
   "cell_type": "code",
   "execution_count": null,
   "metadata": {},
   "outputs": [],
   "source": [
    "# Add Gaussian noise (اسلاید 38-40)\n",
    "def add_gaussian_noise(image, sigma=20):\n",
    "    noise = np.random.normal(0, sigma, image.shape).astype(np.int16)\n",
    "    noisy = np.clip(image.astype(np.int16) + noise, 0, 255).astype(np.uint8)\n",
    "    return noisy\n",
    "\n",
    "noisy = add_gaussian_noise(img_gray, sigma=20)\n",
    "\n",
    "plt.figure(figsize=(8, 4))\n",
    "plt.subplot(121); plt.imshow(img_gray, cmap='gray'); plt.title('Original'); plt.axis('off')\n",
    "plt.subplot(122); plt.imshow(noisy, cmap='gray'); plt.title('Noisy (σ=20)'); plt.axis('off')\n",
    "plt.show()"
   ]
  },
  {
   "cell_type": "code",
   "execution_count": null,
   "metadata": {},
   "outputs": [],
   "source": [
    "# Filters (اسلاید 51-53)\n",
    "avg_filter = cv2.blur(noisy, (3, 3))\n",
    "gauss_filter = cv2.GaussianBlur(noisy, (5, 5), 1.5)\n",
    "median_filter = cv2.medianBlur(noisy, 5)\n",
    "\n",
    "plt.figure(figsize=(12, 3))\n",
    "plt.subplot(141); plt.imshow(noisy, cmap='gray'); plt.title('Noisy'); plt.axis('off')\n",
    "plt.subplot(142); plt.imshow(avg_filter, cmap='gray'); plt.title('Average 3×3'); plt.axis('off')\n",
    "plt.subplot(143); plt.imshow(gauss_filter, cmap='gray'); plt.title('Gaussian σ=1.5'); plt.axis('off')\n",
    "plt.subplot(144); plt.imshow(median_filter, cmap='gray'); plt.title('Median 5×5'); plt.axis('off')\n",
    "plt.show()"
   ]
  }
 ],
 "metadata": {
  "kernelspec": {
   "display_name": "Python (OpenCV)",
   "language": "python",
   "name": "opencv_env"
  },
  "language_info": {
   "name": "python",
   "version": "3.12.0"
  }
 },
 "nbformat": 4,
 "nbformat_minor": 4
}