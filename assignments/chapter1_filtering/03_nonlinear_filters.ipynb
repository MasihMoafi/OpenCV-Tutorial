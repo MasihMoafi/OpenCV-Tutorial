{
 "cells": [
  {
   "cell_type": "markdown",
   "metadata": {},
   "source": [
    "# فیلترهای غیرخطی / Non-Linear Filters\n",
    "\n",
    "**هدف:** یادگیری فیلترهای غیرخطی برای حذف نویز نمک و فلفل\n",
    "\n",
    "---\n",
    "\n",
    "## محتوا:\n",
    "1. نویز نمک و فلفل (Salt & Pepper)\n",
    "2. فیلتر میانه (Median Filter)\n",
    "3. فیلتر دوطرفه (Bilateral Filter)\n",
    "4. مقایسه با فیلترهای خطی"
   ]
  },
  {
   "cell_type": "code",
   "execution_count": null,
   "metadata": {},
   "outputs": [],
   "source": [
    "import cv2\n",
    "import numpy as np\n",
    "import matplotlib.pyplot as plt\n",
    "\n",
    "plt.rcParams['figure.figsize'] = (15, 10)\n",
    "plt.rcParams['font.size'] = 12\n",
    "\n",
    "print(f\"OpenCV: {cv2.__version__}\")"
   ]
  },
  {
   "cell_type": "markdown",
   "metadata": {},
   "source": [
    "## 1. توابع کمکی"
   ]
  },
  {
   "cell_type": "code",
   "execution_count": null,
   "metadata": {},
   "outputs": [],
   "source": [
    "def add_salt_pepper_noise(image: np.ndarray, salt_prob: float = 0.01, pepper_prob: float = 0.01) -> np.ndarray:\n",
    "    \"\"\"\n",
    "    اضافه کردن نویز نمک و فلفل\n",
    "    \n",
    "    Args:\n",
    "        image: تصویر ورودی\n",
    "        salt_prob: احتمال نویز سفید (نمک)\n",
    "        pepper_prob: احتمال نویز سیاه (فلفل)\n",
    "    \"\"\"\n",
    "    noisy = image.copy()\n",
    "    \n",
    "    # نویز نمک (سفید)\n",
    "    salt_mask = np.random.random(image.shape) < salt_prob\n",
    "    noisy[salt_mask] = 255\n",
    "    \n",
    "    # نویز فلفل (سیاه)\n",
    "    pepper_mask = np.random.random(image.shape) < pepper_prob\n",
    "    noisy[pepper_mask] = 0\n",
    "    \n",
    "    return noisy\n",
    "\n",
    "\n",
    "def calculate_psnr(original: np.ndarray, processed: np.ndarray) -> float:\n",
    "    \"\"\"محاسبه PSNR\"\"\"\n",
    "    mse = np.mean((original.astype(np.float64) - processed.astype(np.float64)) ** 2)\n",
    "    if mse == 0:\n",
    "        return float('inf')\n",
    "    return 10 * np.log10(255**2 / mse)\n",
    "\n",
    "\n",
    "def display_images(images: list, titles: list, cmap='gray'):\n",
    "    \"\"\"نمایش تصاویر\"\"\"\n",
    "    n = len(images)\n",
    "    fig, axes = plt.subplots(1, n, figsize=(5*n, 5))\n",
    "    if n == 1:\n",
    "        axes = [axes]\n",
    "    for ax, img, title in zip(axes, images, titles):\n",
    "        ax.imshow(img, cmap=cmap)\n",
    "        ax.set_title(title, fontsize=14, fontweight='bold')\n",
    "        ax.axis('off')\n",
    "    plt.tight_layout()\n",
    "    plt.show()\n",
    "\n",
    "print(\"✓ توابع آماده شدند\")"
   ]
  },
  {
   "cell_type": "markdown",
   "metadata": {},
   "source": [
    "## 2. ایجاد تصویر و اضافه کردن نویز"
   ]
  },
  {
   "cell_type": "code",
   "execution_count": null,
   "metadata": {},
   "outputs": [],
   "source": [
    "# ایجاد تصویر نمونه\n",
    "height, width = 256, 256\n",
    "original = np.zeros((height, width), dtype=np.uint8)\n",
    "\n",
    "# اضافه کردن اشکال\n",
    "cv2.rectangle(original, (50, 50), (150, 150), 200, -1)\n",
    "cv2.circle(original, (200, 200), 40, 150, -1)\n",
    "cv2.line(original, (0, 0), (255, 255), 100, 2)\n",
    "\n",
    "# اضافه کردن نویز نمک و فلفل\n",
    "noisy_sp = add_salt_pepper_noise(original, salt_prob=0.02, pepper_prob=0.02)\n",
    "\n",
    "display_images(\n",
    "    [original, noisy_sp],\n",
    "    ['تصویر اصلی', 'نویز نمک و فلفل (4%)']\n",
    ")"
   ]
  },
  {
   "cell_type": "markdown",
   "metadata": {},
   "source": [
    "## 3. مشکل فیلترهای خطی با نویز نمک و فلفل\n",
    "\n",
    "**چرا فیلترهای خطی کار نمی‌کنند؟**\n",
    "\n",
    "فیلترهای خطی (میانگین، گاوسی) نویز را پخش می‌کنند به جای حذف کردن!"
   ]
  },
  {
   "cell_type": "code",
   "execution_count": null,
   "metadata": {},
   "outputs": [],
   "source": [
    "# تست فیلترهای خطی\n",
    "avg_filtered = cv2.blur(noisy_sp, (5, 5))\n",
    "gaussian_filtered = cv2.GaussianBlur(noisy_sp, (5, 5), 1.0)\n",
    "\n",
    "psnr_avg = calculate_psnr(original, avg_filtered)\n",
    "psnr_gauss = calculate_psnr(original, gaussian_filtered)\n",
    "\n",
    "print(f\"PSNR فیلتر میانگین: {psnr_avg:.2f} dB\")\n",
    "print(f\"PSNR فیلتر گاوسی: {psnr_gauss:.2f} dB\")\n",
    "\n",
    "display_images(\n",
    "    [original, noisy_sp, avg_filtered, gaussian_filtered],\n",
    "    ['اصلی', 'نویزی', 'فیلتر میانگین', 'فیلتر گاوسی']\n",
    ")\n",
    "\n",
    "print(\"\\n⚠️ توجه: فیلترهای خطی نویز را محو می‌کنند اما حذف نمی‌کنند!\")"
   ]
  },
  {
   "cell_type": "markdown",
   "metadata": {},
   "source": [
    "## 4. فیلتر میانه (Median Filter)\n",
    "\n",
    "**تئوری:**\n",
    "- به جای میانگین، میانه (median) پیکسل‌های همسایه را محاسبه می‌کند\n",
    "- میانه نسبت به outlier مقاوم است\n",
    "- برای نویز نمک و فلفل عالی است\n",
    "\n",
    "**مثال 3×3:**\n",
    "```\n",
    "همسایگان: [0, 0, 100, 100, 100, 100, 100, 255, 255]\n",
    "میانگین: 117\n",
    "میانه: 100  ← بهتر!\n",
    "```"
   ]
  },
  {
   "cell_type": "code",
   "execution_count": null,
   "metadata": {},
   "outputs": [],
   "source": [
    "# فیلتر میانه با اندازه‌های مختلف\n",
    "kernel_sizes = [3, 5, 7]\n",
    "median_filtered = []\n",
    "\n",
    "for ksize in kernel_sizes:\n",
    "    filtered = cv2.medianBlur(noisy_sp, ksize)\n",
    "    median_filtered.append(filtered)\n",
    "    \n",
    "    psnr = calculate_psnr(original, filtered)\n",
    "    print(f\"Median {ksize}×{ksize}: PSNR = {psnr:.2f} dB\")\n",
    "\n",
    "# نمایش\n",
    "images = [original, noisy_sp] + median_filtered\n",
    "titles = ['اصلی', 'نویزی'] + [f'Median {k}×{k}' for k in kernel_sizes]\n",
    "display_images(images, titles)"
   ]
  },
  {
   "cell_type": "markdown",
   "metadata": {},
   "source": [
    "## 5. مقایسه: میانگین vs میانه"
   ]
  },
  {
   "cell_type": "code",
   "execution_count": null,
   "metadata": {},
   "outputs": [],
   "source": [
    "# مقایسه مستقیم\n",
    "ksize = 5\n",
    "avg_result = cv2.blur(noisy_sp, (ksize, ksize))\n",
    "median_result = cv2.medianBlur(noisy_sp, ksize)\n",
    "\n",
    "psnr_avg = calculate_psnr(original, avg_result)\n",
    "psnr_median = calculate_psnr(original, median_result)\n",
    "\n",
    "print(\"=\"*50)\n",
    "print(f\"فیلتر میانگین {ksize}×{ksize}: PSNR = {psnr_avg:.2f} dB\")\n",
    "print(f\"فیلتر میانه {ksize}×{ksize}:   PSNR = {psnr_median:.2f} dB\")\n",
    "print(f\"بهبود: {psnr_median - psnr_avg:.2f} dB\")\n",
    "print(\"=\"*50)\n",
    "\n",
    "display_images(\n",
    "    [original, noisy_sp, avg_result, median_result],\n",
    "    ['اصلی', 'نویزی', f'میانگین {ksize}×{ksize}', f'میانه {ksize}×{ksize}']\n",
    ")"
   ]
  },
  {
   "cell_type": "markdown",
   "metadata": {},
   "source": [
    "## 6. فیلتر دوطرفه (Bilateral Filter)\n",
    "\n",
    "**تئوری:**\n",
    "- فیلتر گاوسی که لبه‌ها را حفظ می‌کند\n",
    "- دو وزن دارد:\n",
    "  1. وزن فضایی (spatial): فاصله از مرکز\n",
    "  2. وزن شدت (intensity): تفاوت مقدار پیکسل\n",
    "- اگر پیکسل همسایه خیلی متفاوت باشد (لبه)، وزن کمی می‌گیرد\n",
    "\n",
    "**کاربرد:** هموارسازی بدون از دست دادن جزئیات"
   ]
  },
  {
   "cell_type": "code",
   "execution_count": null,
   "metadata": {},
   "outputs": [],
   "source": [
    "# اضافه کردن نویز گاوسی (برای تست bilateral)\n",
    "def add_gaussian_noise(image, sigma=20):\n",
    "    noise = np.random.normal(0, sigma, image.shape).astype(np.int16)\n",
    "    noisy = image.astype(np.int16) + noise\n",
    "    return np.clip(noisy, 0, 255).astype(np.uint8)\n",
    "\n",
    "noisy_gaussian = add_gaussian_noise(original, sigma=25)\n",
    "\n",
    "# فیلتر دوطرفه با پارامترهای مختلف\n",
    "# d: قطر همسایگی\n",
    "# sigmaColor: فیلتر در فضای رنگ\n",
    "# sigmaSpace: فیلتر در فضای مختصات\n",
    "\n",
    "bilateral_1 = cv2.bilateralFilter(noisy_gaussian, d=9, sigmaColor=75, sigmaSpace=75)\n",
    "bilateral_2 = cv2.bilateralFilter(noisy_gaussian, d=9, sigmaColor=150, sigmaSpace=150)\n",
    "\n",
    "# مقایسه با گاوسی\n",
    "gaussian = cv2.GaussianBlur(noisy_gaussian, (9, 9), 2.0)\n",
    "\n",
    "psnr_gauss = calculate_psnr(original, gaussian)\n",
    "psnr_bi1 = calculate_psnr(original, bilateral_1)\n",
    "psnr_bi2 = calculate_psnr(original, bilateral_2)\n",
    "\n",
    "print(f\"Gaussian: PSNR = {psnr_gauss:.2f} dB\")\n",
    "print(f\"Bilateral (σc=75, σs=75): PSNR = {psnr_bi1:.2f} dB\")\n",
    "print(f\"Bilateral (σc=150, σs=150): PSNR = {psnr_bi2:.2f} dB\")\n",
    "\n",
    "display_images(\n",
    "    [original, noisy_gaussian, gaussian, bilateral_1, bilateral_2],\n",
    "    ['اصلی', 'نویز گاوسی', 'Gaussian', 'Bilateral (75)', 'Bilateral (150)']\n",
    ")"
   ]
  },
  {
   "cell_type": "markdown",
   "metadata": {},
   "source": [
    "## 7. مقایسه کامل: همه فیلترها"
   ]
  },
  {
   "cell_type": "code",
   "execution_count": null,
   "metadata": {},
   "outputs": [],
   "source": [
    "# تست روی نویز نمک و فلفل\n",
    "print(\"\\n\" + \"=\"*60)\n",
    "print(\"مقایسه فیلترها برای نویز نمک و فلفل:\")\n",
    "print(\"=\"*60)\n",
    "\n",
    "noisy = add_salt_pepper_noise(original, 0.03, 0.03)\n",
    "\n",
    "results = [\n",
    "    ('نویزی', noisy),\n",
    "    ('میانگین 5×5', cv2.blur(noisy, (5, 5))),\n",
    "    ('گاوسی 5×5', cv2.GaussianBlur(noisy, (5, 5), 1.0)),\n",
    "    ('میانه 5×5', cv2.medianBlur(noisy, 5)),\n",
    "    ('Bilateral', cv2.bilateralFilter(noisy, 9, 75, 75))\n",
    "]\n",
    "\n",
    "for name, img in results:\n",
    "    psnr = calculate_psnr(original, img)\n",
    "    print(f\"{name:20s} | PSNR: {psnr:6.2f} dB\")\n",
    "\n",
    "images = [original] + [img for _, img in results]\n",
    "titles = ['اصلی'] + [name for name, _ in results]\n",
    "display_images(images, titles)"
   ]
  },
  {
   "cell_type": "markdown",
   "metadata": {},
   "source": [
    "## 8. تمرین عملی\n",
    "\n",
    "**وظیفه:**\n",
    "1. تصویر خود را بارگذاری کنید\n",
    "2. نویز نمک و فلفل با احتمال 5% اضافه کنید\n",
    "3. همه فیلترها را تست کنید\n",
    "4. بهترین فیلتر را انتخاب کنید"
   ]
  },
  {
   "cell_type": "code",
   "execution_count": null,
   "metadata": {},
   "outputs": [],
   "source": [
    "# کد تمرین شما\n",
    "# TODO: بارگذاری تصویر\n",
    "# TODO: اضافه کردن نویز\n",
    "# TODO: تست فیلترها\n",
    "# TODO: مقایسه PSNR\n",
    "\n",
    "pass"
   ]
  },
  {
   "cell_type": "markdown",
   "metadata": {},
   "source": [
    "## نتیجه‌گیری\n",
    "\n",
    "### انتخاب فیلتر مناسب:\n",
    "\n",
    "| نوع نویز | فیلتر پیشنهادی | دلیل |\n",
    "|---------|----------------|------|\n",
    "| گاوسی | Gaussian / Bilateral | هموارسازی خوب |\n",
    "| نمک و فلفل | **Median** | حذف کامل نویز |\n",
    "| ترکیبی | Median + Bilateral | ابتدا median، سپس bilateral |\n",
    "| حفظ لبه | **Bilateral** | هموارسازی بدون از دست دادن جزئیات |\n",
    "\n",
    "### نکات کلیدی:\n",
    "\n",
    "1. **فیلتر میانه:**\n",
    "   - ✓ عالی برای نویز نمک و فلفل\n",
    "   - ✓ غیرخطی - نویز را حذف می‌کند نه محو\n",
    "   - ✗ کندتر از فیلترهای خطی\n",
    "\n",
    "2. **فیلتر دوطرفه:**\n",
    "   - ✓ لبه‌ها را حفظ می‌کند\n",
    "   - ✓ برای نویز گاوسی عالی\n",
    "   - ✗ محاسباتی گران\n",
    "   - ✗ برای نمک و فلفل مناسب نیست\n",
    "\n",
    "3. **ترکیب فیلترها:**\n",
    "   - می‌توان چند فیلتر را پشت سر هم اعمال کرد\n",
    "   - مثال: Median → Bilateral\n",
    "\n",
    "---\n",
    "\n",
    "**تمام شد!** 🎉\n",
    "\n",
    "حالا می‌توانید:\n",
    "- نویز را تشخیص دهید\n",
    "- فیلتر مناسب را انتخاب کنید\n",
    "- کیفیت را با PSNR ارزیابی کنید"
   ]
  }
 ],
 "metadata": {
  "kernelspec": {
   "display_name": "Python 3",
   "language": "python",
   "name": "python3"
  },
  "language_info": {
   "name": "python",
   "version": "3.8.0"
  }
 },
 "nbformat": 4,
 "nbformat_minor": 4
}
